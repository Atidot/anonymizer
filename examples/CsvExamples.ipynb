{
 "cells": [
  {
   "cell_type": "markdown",
   "metadata": {},
   "source": [
    "## imports"
   ]
  },
  {
   "cell_type": "code",
   "execution_count": 1,
   "metadata": {},
   "outputs": [],
   "source": [
    "{-# LANGUAGE PackageImports #-}\n",
    "{-# LANGUAGE OverloadedStrings #-}\n",
    "import \"atidot-anonymizer\" Atidot.Anonymizer.Monad\n",
    "import qualified \"atidot-anonymizer\" Atidot.Anonymizer.Run as Anonymizer (runExample)\n",
    "import \"atidot-anonymizer\" Atidot.Anonymizer.XML\n",
    "import \"atidot-anonymizer\" Atidot.Anonymizer.Types\n",
    "import \"atidot-anonymizer\" Atidot.Anonymizer.Utils\n",
    "import \"mtl\"          Control.Monad.State (evalStateT)\n",
    "import \"data-default\" Data.Default (def)\n",
    "\n",
    "import Control.Monad\n",
    "import qualified Data.Text as T\n",
    "import qualified Data.ByteString.Lazy as BL\n",
    "import qualified \"bytestring\" Data.ByteString.Lazy.Char8 as BL8\n"
   ]
  },
  {
   "cell_type": "markdown",
   "metadata": {},
   "source": [
    "## Contants"
   ]
  },
  {
   "cell_type": "code",
   "execution_count": 2,
   "metadata": {},
   "outputs": [],
   "source": [
    "anonymizationPath :: Path\n",
    "anonymizationPath = [\"/\",\"a\",\"b\",\"c\"]\n",
    "\n",
    "xmlPath = \"example.csv\""
   ]
  },
  {
   "cell_type": "markdown",
   "metadata": {},
   "source": [
    "## Example XML:\n",
    "let's print the example xml used in this notebook"
   ]
  },
  {
   "cell_type": "code",
   "execution_count": 3,
   "metadata": {},
   "outputs": [
    {
     "data": {
      "text/plain": [
       "a,b,c\n",
       "foo,bar,doo\n",
       "boo,gar,joo\n",
       "goo,far,koo"
      ]
     },
     "metadata": {},
     "output_type": "display_data"
    }
   ],
   "source": [
    "xmlData <- BL.readFile xmlPath\n",
    "BL8.putStrLn xmlData"
   ]
  },
  {
   "cell_type": "markdown",
   "metadata": {},
   "source": [
    "## Example 1: print all paths in file"
   ]
  },
  {
   "cell_type": "code",
   "execution_count": 4,
   "metadata": {},
   "outputs": [],
   "source": [
    "script :: Anonymizer [Path]\n",
    "script = do\n",
    "    whileNext $ return ()\n",
    "    paths"
   ]
  },
  {
   "cell_type": "markdown",
   "metadata": {},
   "source": [
    "execute `runExample` from Atidot.Anonymizer.Run, that prints two things:\n",
    "1. XML after the script's traversal on the file\n",
    "1. The paths traversed by the script"
   ]
  },
  {
   "cell_type": "code",
   "execution_count": 5,
   "metadata": {},
   "outputs": [
    {
     "data": {
      "text/plain": [
       "hello from csv\n",
       "[[(\"a\",\"foo\"),(\"a\",\"boo\"),(\"a\",\"goo\")],[(\"b\",\"bar\"),(\"b\",\"gar\"),(\"b\",\"far\")],[(\"c\",\"doo\"),(\"c\",\"joo\"),(\"c\",\"koo\")]]\n",
       "bobo\n",
       "Zip [] [[(\"a\",\"foo\"),(\"a\",\"boo\"),(\"a\",\"goo\")],[(\"b\",\"bar\"),(\"b\",\"gar\"),(\"b\",\"far\")],[(\"c\",\"doo\"),(\"c\",\"joo\"),(\"c\",\"koo\")]]\n",
       "Zip [[(\"a\",\"foo\"),(\"a\",\"boo\"),(\"a\",\"goo\")]] [[(\"b\",\"bar\"),(\"b\",\"gar\"),(\"b\",\"far\")],[(\"c\",\"doo\"),(\"c\",\"joo\"),(\"c\",\"koo\")]]\n",
       "bobo\n",
       "Zip [[(\"a\",\"foo\"),(\"a\",\"boo\"),(\"a\",\"goo\")]] [[(\"b\",\"bar\"),(\"b\",\"gar\"),(\"b\",\"far\")],[(\"c\",\"doo\"),(\"c\",\"joo\"),(\"c\",\"koo\")]]\n",
       "Zip [[(\"b\",\"bar\"),(\"b\",\"gar\"),(\"b\",\"far\")],[(\"a\",\"foo\"),(\"a\",\"boo\"),(\"a\",\"goo\")]] [[(\"c\",\"doo\"),(\"c\",\"joo\"),(\"c\",\"koo\")]]\n",
       "\n",
       "[[\"a\"],[\"b\"],[\"c\"]]"
      ]
     },
     "metadata": {},
     "output_type": "display_data"
    }
   ],
   "source": [
    "Anonymizer.runExample xmlPath script"
   ]
  },
  {
   "cell_type": "markdown",
   "metadata": {},
   "source": [
    "## Example 2: hash explicit paths"
   ]
  },
  {
   "cell_type": "code",
   "execution_count": 6,
   "metadata": {},
   "outputs": [],
   "source": [
    "script2 :: Anonymizer ()\n",
    "script2 = do\n",
    "    whileNext $ do\n",
    "        path <- current\n",
    "        return ()\n",
    "        --when (path == anonymizationPath) hash\n",
    "    return ()"
   ]
  },
  {
   "cell_type": "code",
   "execution_count": 7,
   "metadata": {},
   "outputs": [
    {
     "data": {
      "text/plain": [
       "hello from csv\n",
       "[[(\"a\",\"foo\"),(\"a\",\"boo\"),(\"a\",\"goo\")],[(\"b\",\"bar\"),(\"b\",\"gar\"),(\"b\",\"far\")],[(\"c\",\"doo\"),(\"c\",\"joo\"),(\"c\",\"koo\")]]\n",
       "bobo\n",
       "Zip [] [[(\"a\",\"foo\"),(\"a\",\"boo\"),(\"a\",\"goo\")],[(\"b\",\"bar\"),(\"b\",\"gar\"),(\"b\",\"far\")],[(\"c\",\"doo\"),(\"c\",\"joo\"),(\"c\",\"koo\")]]\n",
       "Zip [[(\"a\",\"foo\"),(\"a\",\"boo\"),(\"a\",\"goo\")]] [[(\"b\",\"bar\"),(\"b\",\"gar\"),(\"b\",\"far\")],[(\"c\",\"doo\"),(\"c\",\"joo\"),(\"c\",\"koo\")]]\n",
       "bobo\n",
       "Zip [[(\"a\",\"foo\"),(\"a\",\"boo\"),(\"a\",\"goo\")]] [[(\"b\",\"bar\"),(\"b\",\"gar\"),(\"b\",\"far\")],[(\"c\",\"doo\"),(\"c\",\"joo\"),(\"c\",\"koo\")]]\n",
       "Zip [[(\"b\",\"bar\"),(\"b\",\"gar\"),(\"b\",\"far\")],[(\"a\",\"foo\"),(\"a\",\"boo\"),(\"a\",\"goo\")]] [[(\"c\",\"doo\"),(\"c\",\"joo\"),(\"c\",\"koo\")]]"
      ]
     },
     "metadata": {},
     "output_type": "display_data"
    }
   ],
   "source": [
    "Anonymizer.runExample xmlPath script2"
   ]
  },
  {
   "cell_type": "markdown",
   "metadata": {},
   "source": [
    "## Example 3: hash value of b element and it's subtree\n",
    "\n",
    "Hashes all elements in subtree"
   ]
  },
  {
   "cell_type": "code",
   "execution_count": 11,
   "metadata": {},
   "outputs": [],
   "source": [
    "script3 :: Anonymizer ()\n",
    "script3 = do\n",
    "    whileNext $ do\n",
    "        path <- current\n",
    "        when (path =~ [\"b\"]) hash"
   ]
  },
  {
   "cell_type": "code",
   "execution_count": 12,
   "metadata": {},
   "outputs": [
    {
     "data": {
      "text/html": [
       "<style>/* Styles used for the Hoogle display in the pager */\n",
       ".hoogle-doc {\n",
       "display: block;\n",
       "padding-bottom: 1.3em;\n",
       "padding-left: 0.4em;\n",
       "}\n",
       ".hoogle-code {\n",
       "display: block;\n",
       "font-family: monospace;\n",
       "white-space: pre;\n",
       "}\n",
       ".hoogle-text {\n",
       "display: block;\n",
       "}\n",
       ".hoogle-name {\n",
       "color: green;\n",
       "font-weight: bold;\n",
       "}\n",
       ".hoogle-head {\n",
       "font-weight: bold;\n",
       "}\n",
       ".hoogle-sub {\n",
       "display: block;\n",
       "margin-left: 0.4em;\n",
       "}\n",
       ".hoogle-package {\n",
       "font-weight: bold;\n",
       "font-style: italic;\n",
       "}\n",
       ".hoogle-module {\n",
       "font-weight: bold;\n",
       "}\n",
       ".hoogle-class {\n",
       "font-weight: bold;\n",
       "}\n",
       ".get-type {\n",
       "color: green;\n",
       "font-weight: bold;\n",
       "font-family: monospace;\n",
       "display: block;\n",
       "white-space: pre-wrap;\n",
       "}\n",
       ".show-type {\n",
       "color: green;\n",
       "font-weight: bold;\n",
       "font-family: monospace;\n",
       "margin-left: 1em;\n",
       "}\n",
       ".mono {\n",
       "font-family: monospace;\n",
       "display: block;\n",
       "}\n",
       ".err-msg {\n",
       "color: red;\n",
       "font-style: italic;\n",
       "font-family: monospace;\n",
       "white-space: pre;\n",
       "display: block;\n",
       "}\n",
       "#unshowable {\n",
       "color: red;\n",
       "font-weight: bold;\n",
       "}\n",
       ".err-msg.in.collapse {\n",
       "padding-top: 0.7em;\n",
       "}\n",
       ".highlight-code {\n",
       "white-space: pre;\n",
       "font-family: monospace;\n",
       "}\n",
       ".suggestion-warning { \n",
       "font-weight: bold;\n",
       "color: rgb(200, 130, 0);\n",
       "}\n",
       ".suggestion-error { \n",
       "font-weight: bold;\n",
       "color: red;\n",
       "}\n",
       ".suggestion-name {\n",
       "font-weight: bold;\n",
       "}\n",
       "</style><span class='err-msg'>Data/List/Zipper.hs:65:1-24: Non-exhaustive patterns in function cursor</span>"
      ],
      "text/plain": [
       "Data/List/Zipper.hs:65:1-24: Non-exhaustive patterns in function cursor"
      ]
     },
     "metadata": {},
     "output_type": "display_data"
    }
   ],
   "source": [
    "Anonymizer.runExample xmlPath script3"
   ]
  },
  {
   "cell_type": "markdown",
   "metadata": {},
   "source": []
  },
  {
   "cell_type": "markdown",
   "metadata": {},
   "source": [
    "## Example4: hash c or d elemets\n",
    "\n",
    "Hashes all paths containing the Substrings `c` or `d`"
   ]
  },
  {
   "cell_type": "code",
   "execution_count": 18,
   "metadata": {},
   "outputs": [],
   "source": [
    "script4 :: Anonymizer ()\n",
    "script4 = do\n",
    "    whileNext $ do\n",
    "        path <- current\n",
    "        when (path =~ [\"c\"] || path =~ [\"d\"]) hash\n",
    "        "
   ]
  },
  {
   "cell_type": "code",
   "execution_count": 20,
   "metadata": {},
   "outputs": [
    {
     "data": {
      "text/plain": [
       "<?xml version=\"1.0\" encoding=\"UTF-8\"?>\n",
       "<a>\n",
       "  <b>\n",
       "    <c>4b093efdc14b01cdf75efcb08dcfd3f1afdfc567f9c60d338d3e8a941f4051bb</c>\n",
       "    <d>2ac33784352a5ec322f8cdeebc8199ea41f3de2ecb30cd8bc48e19b9455f81a4</d>\n",
       "  </b>\n",
       "  <e>\n",
       "    <f>\n",
       "      \"goo\"\n",
       "    </f>\n",
       "    <d>2e8dffc6d0deb87ad1880b9d4700f3c50643e58093d05f2248a39a89889446e7</d>\n",
       "  </e>\n",
       "</a>"
      ]
     },
     "metadata": {},
     "output_type": "display_data"
    }
   ],
   "source": [
    "Anonymizer.runExample xmlPath script4"
   ]
  }
 ],
 "metadata": {
  "kernelspec": {
   "display_name": "Haskell - atidot-anonymizer",
   "language": "haskell",
   "name": "ihaskell_atidot-anonymizer"
  },
  "language_info": {
   "codemirror_mode": "ihaskell",
   "file_extension": ".hs",
   "name": "haskell",
   "pygments_lexer": "Haskell",
   "version": "8.4.4"
  }
 },
 "nbformat": 4,
 "nbformat_minor": 2
}
