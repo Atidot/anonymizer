{
 "cells": [
  {
   "cell_type": "markdown",
   "metadata": {},
   "source": [
    "## imports"
   ]
  },
  {
   "cell_type": "code",
   "execution_count": 1,
   "metadata": {},
   "outputs": [],
   "source": [
    "{-# LANGUAGE PackageImports #-}\n",
    "{-# LANGUAGE OverloadedStrings #-}\n",
    "import \"atidot-anonymizer\" Atidot.Anonymizer.Monad\n",
    "import qualified \"atidot-anonymizer\" Atidot.Anonymizer.Run as Anonymizer (runExample')\n",
    "import \"atidot-anonymizer\" Atidot.Anonymizer.XML\n",
    "import \"atidot-anonymizer\" Atidot.Anonymizer.Types\n",
    "import \"atidot-anonymizer\" Atidot.Anonymizer.Utils\n",
    "import \"mtl\"          Control.Monad.State (evalStateT)\n",
    "import \"data-default\" Data.Default (def)\n",
    "\n",
    "import Control.Monad\n",
    "import qualified Data.Text as T\n",
    "import qualified Data.ByteString.Lazy as BL\n",
    "import qualified \"bytestring\" Data.ByteString.Lazy.Char8 as BL8\n"
   ]
  },
  {
   "cell_type": "markdown",
   "metadata": {},
   "source": [
    "## Anonymization Paths"
   ]
  },
  {
   "cell_type": "code",
   "execution_count": 2,
   "metadata": {},
   "outputs": [],
   "source": [
    "basePath = [\"/\",\"TXLife\",\"TXLifeRequest\" ,\"OLifE\"]\n",
    "\n",
    "anonymizationPaths :: [Path]\n",
    "anonymizationPaths = map (basePath ++)\n",
    "        [[\"Holding\", \"Policy\", \"PolNumber\"]\n",
    "        ,[\"Holding\", \"Policy\",\"OLifEExtension\", \"JournalEntry\", \"EntryAuthor\"]\n",
    "        ,[\"Holding\", \"Investment\", \"Banking\"]\n",
    "        ,[ \"Party\" ,\"FullName\"]\n",
    "        ,[ \"Party\" ,\"GovtID\"]\n",
    "        ,[ \"Party\" ,\"Person\", \"FirstName\"]\n",
    "        ,[ \"Party\" ,\"Person\", \"MiddleName\"]\n",
    "        ,[ \"Party\" ,\"Person\", \"LastName\"]\n",
    "        ,[ \"Party\" ,\"Person\", \"Prefix\"]\n",
    "        ,[ \"Party\" ,\"Person\", \"Suffix\"]\n",
    "        ,[ \"Party\" ,\"Address\", \"Line1\"]\n",
    "        ,[ \"Party\" ,\"Address\", \"Line2\"]\n",
    "        ,[ \"Party\" ,\"Address\", \"Line3\"]\n",
    "        ,[ \"Party\" ,\"Address\", \"Line4\"]\n",
    "        ,[ \"Party\" ,\"Phone\" ]\n",
    "        ,[ \"Party\" ,\"EMailAddress\" ]\n",
    "        ,[ \"FinancialStatement\", \"PolicyStatement\", \"PolNumber\"]\n",
    "        ]\n",
    "                         \n",
    "                   \n",
    "xmlPath = \"acord.xml\""
   ]
  },
  {
   "cell_type": "markdown",
   "metadata": {},
   "source": [
    "## Example XML:\n",
    "let's print the example xml used in this notebook"
   ]
  },
  {
   "cell_type": "code",
   "execution_count": 3,
   "metadata": {},
   "outputs": [
    {
     "data": {
      "text/plain": [
       "<?xml version=\"1.0\" encoding=\"UTF-8\"?>\n",
       "<TXLife xmlns=\"http://ACORD.org/Standards/Life/2\" xmlns:xsi=\""
      ]
     },
     "metadata": {},
     "output_type": "display_data"
    }
   ],
   "source": [
    "xmlData <- BL.readFile xmlPath\n",
    "BL8.putStrLn $ BL.take 100 xmlData"
   ]
  },
  {
   "cell_type": "markdown",
   "metadata": {},
   "source": [
    "## Hashed Version"
   ]
  },
  {
   "cell_type": "code",
   "execution_count": 4,
   "metadata": {},
   "outputs": [],
   "source": [
    "acordHashingExample :: Anonymizer ()\n",
    "acordHashingExample = do\n",
    "    whileNext $ do\n",
    "        path <- current\n",
    "        when (path `elem` anonymizationPaths) hash\n",
    "    return ()    "
   ]
  },
  {
   "cell_type": "markdown",
   "metadata": {},
   "source": [
    "execute `runExample` from Atidot.Anonymizer.Run, that prints two things:\n",
    "1. XML after the script's traversal on the file\n",
    "1. The paths traversed by the script"
   ]
  },
  {
   "cell_type": "code",
   "execution_count": 5,
   "metadata": {},
   "outputs": [],
   "source": [
    "exp <- Anonymizer.runExample' xmlPath acordHashingExample"
   ]
  },
  {
   "cell_type": "code",
   "execution_count": 6,
   "metadata": {},
   "outputs": [],
   "source": [
    "holdingPaths = map ((basePath ++ [\"Holding\"]) ++)\n",
    "    [[ \"Policy\", \"PolNumber\"]\n",
    "    ,[ \"Policy\", \"OLifEExtension\", \"JournalEntry\", \"EntryAuthor\"]\n",
    "    ]\n",
    "\n",
    "\n",
    "partyPaths = map ((basePath ++ [\"Party\"]) ++)\n",
    "    [[\"FullName\"]\n",
    "    ,[ \"GovtID\"]\n",
    "    ,[ \"Person\" , \"FirstName\"]\n",
    "    ,[ \"Person\" , \"MiddleName\"]\n",
    "    ,[ \"Person\" , \"LastName\"]\n",
    "    ,[ \"Person\" , \"Prefix\"]\n",
    "    ,[ \"Person\" , \"Suffix\"]\n",
    "    ,[ \"FinancialStatement\", \"PolicyStatement\", \"PolNumber\"]\n",
    "    ]\n",
    "\n",
    "partyContactDetailPaths = map ((basePath ++ [\"Party\"]) ++)\n",
    "    [[ \"Address\"]\n",
    "    ,[ \"Phone\" ]\n",
    "    ,[ \"EMailAddress\" ]\n",
    "    ]"
   ]
  },
  {
   "cell_type": "code",
   "execution_count": 7,
   "metadata": {},
   "outputs": [],
   "source": [
    "acordHashing :: Anonymizer ()\n",
    "acordHashing = do\n",
    "    let anonPaths = holdingPaths ++ partyPaths\n",
    "    whileNext $ do\n",
    "        path <- current\n",
    "        when (path `elem` anonPaths) hash\n",
    "        when (any (path =~) partyContactDetailPaths) hash\n",
    "    return ()   "
   ]
  },
  {
   "cell_type": "code",
   "execution_count": 8,
   "metadata": {},
   "outputs": [
    {
     "data": {
      "text/plain": []
     },
     "metadata": {},
     "output_type": "display_data"
    }
   ],
   "source": [
    "exp2 <- Anonymizer.runExample' xmlPath acordHashing\n"
   ]
  },
  {
   "cell_type": "code",
   "execution_count": 9,
   "metadata": {},
   "outputs": [
    {
     "data": {
      "text/plain": [
       "True"
      ]
     },
     "metadata": {},
     "output_type": "display_data"
    }
   ],
   "source": [
    "print $ exp2 == exp -- sanity check"
   ]
  },
  {
   "cell_type": "code",
   "execution_count": null,
   "metadata": {},
   "outputs": [],
   "source": []
  }
 ],
 "metadata": {
  "kernelspec": {
   "display_name": "Haskell - atidot-anonymizer",
   "language": "haskell",
   "name": "ihaskell_atidot-anonymizer"
  },
  "language_info": {
   "codemirror_mode": "ihaskell",
   "file_extension": ".hs",
   "name": "haskell",
   "pygments_lexer": "Haskell",
   "version": "8.4.4"
  }
 },
 "nbformat": 4,
 "nbformat_minor": 2
}
