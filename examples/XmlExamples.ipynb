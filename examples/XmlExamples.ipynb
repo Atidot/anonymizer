{
 "cells": [
  {
   "cell_type": "markdown",
   "metadata": {},
   "source": [
    "## imports"
   ]
  },
  {
   "cell_type": "code",
   "execution_count": 30,
   "metadata": {},
   "outputs": [],
   "source": [
    "{-# LANGUAGE PackageImports #-}\n",
    "{-# LANGUAGE OverloadedStrings #-}\n",
    "import \"atidot-anonymizer\" Atidot.Anonymizer.Monad\n",
    "import qualified \"atidot-anonymizer\" Atidot.Anonymizer.Run as Anonymizer (runExample)\n",
    "import \"atidot-anonymizer\" Atidot.Anonymizer.XML\n",
    "import \"atidot-anonymizer\" Atidot.Anonymizer.Types\n",
    "import \"atidot-anonymizer\" Atidot.Anonymizer.Utils\n",
    "import \"mtl\"          Control.Monad.State (evalStateT)\n",
    "import \"data-default\" Data.Default (def)\n",
    "\n",
    "import Control.Monad\n",
    "import qualified Data.Text as T\n",
    "import qualified Data.ByteString.Lazy as BL\n",
    "import qualified \"bytestring\" Data.ByteString.Lazy.Char8 as BL8\n"
   ]
  },
  {
   "cell_type": "markdown",
   "metadata": {},
   "source": [
    "## Contants"
   ]
  },
  {
   "cell_type": "code",
   "execution_count": 31,
   "metadata": {},
   "outputs": [],
   "source": [
    "anonymizationPath :: Path\n",
    "anonymizationPath = [\"/\",\"a\",\"b\",\"c\"]\n",
    "\n",
    "xmlPath = \"example.xml\""
   ]
  },
  {
   "cell_type": "markdown",
   "metadata": {},
   "source": [
    "## Example XML:\n",
    "let's print the example xml used in this notebook"
   ]
  },
  {
   "cell_type": "code",
   "execution_count": 33,
   "metadata": {},
   "outputs": [
    {
     "data": {
      "text/plain": [
       "<a>\n",
       "  <b>\n",
       "    <c>\n",
       "       \"foo\"\n",
       "    </c>\n",
       "    <d>\n",
       "      \"bar\"\n",
       "    </d>\n",
       "  </b>\n",
       "  <e>\n",
       "    <f>\n",
       "      \"goo\"\n",
       "    </f>\n",
       "    <d>\n",
       "      \"far\"\n",
       "    </d>\n",
       "  </e>\n",
       "</a>"
      ]
     },
     "metadata": {},
     "output_type": "display_data"
    }
   ],
   "source": [
    "xmlData <- BL.readFile xmlPath\n",
    "BL8.putStrLn xmlData"
   ]
  },
  {
   "cell_type": "markdown",
   "metadata": {},
   "source": [
    "## Example 1: print all paths in file"
   ]
  },
  {
   "cell_type": "code",
   "execution_count": 11,
   "metadata": {},
   "outputs": [],
   "source": [
    "script :: Anonymizer [Path]\n",
    "script = do\n",
    "    whileNext $ return ()\n",
    "    paths"
   ]
  },
  {
   "cell_type": "markdown",
   "metadata": {},
   "source": [
    "execute `runExample` from Atidot.Anonymizer.Run, that prints two things:\n",
    "1. XML after the script's traversal on the file\n",
    "1. The paths traversed by the script"
   ]
  },
  {
   "cell_type": "code",
   "execution_count": 12,
   "metadata": {},
   "outputs": [
    {
     "data": {
      "text/plain": [
       "<?xml version=\"1.0\" encoding=\"UTF-8\"?>\n",
       "<a>\n",
       "  <b>\n",
       "    <c>\n",
       "       \"foo\"\n",
       "    </c>\n",
       "    <d>\n",
       "      \"bar\"\n",
       "    </d>\n",
       "  </b>\n",
       "  <e>\n",
       "    <f>\n",
       "      \"goo\"\n",
       "    </f>\n",
       "    <d>\n",
       "      \"far\"\n",
       "    </d>\n",
       "  </e>\n",
       "</a>\n",
       "\n",
       "[[\"/\",\"a\",\"b\",\"c\"],[\"/\",\"a\",\"b\",\"d\"],[\"/\",\"a\",\"e\",\"f\"],[\"/\",\"a\",\"e\",\"d\"]]"
      ]
     },
     "metadata": {},
     "output_type": "display_data"
    }
   ],
   "source": [
    "Anonymizer.runExample xmlPath script"
   ]
  },
  {
   "cell_type": "markdown",
   "metadata": {},
   "source": [
    "## Example 2: hash explicit paths"
   ]
  },
  {
   "cell_type": "code",
   "execution_count": 13,
   "metadata": {},
   "outputs": [],
   "source": [
    "script2 :: Anonymizer ()\n",
    "script2 = do\n",
    "    whileNext $ do\n",
    "        path <- current\n",
    "        when (path == anonymizationPath) hash\n",
    "    return ()"
   ]
  },
  {
   "cell_type": "code",
   "execution_count": 14,
   "metadata": {},
   "outputs": [
    {
     "data": {
      "text/plain": [
       "<?xml version=\"1.0\" encoding=\"UTF-8\"?>\n",
       "<a>\n",
       "  <b>\n",
       "    <c>4b093efdc14b01cdf75efcb08dcfd3f1afdfc567f9c60d338d3e8a941f4051bb</c>\n",
       "    <d>\n",
       "      \"bar\"\n",
       "    </d>\n",
       "  </b>\n",
       "  <e>\n",
       "    <f>\n",
       "      \"goo\"\n",
       "    </f>\n",
       "    <d>\n",
       "      \"far\"\n",
       "    </d>\n",
       "  </e>\n",
       "</a>"
      ]
     },
     "metadata": {},
     "output_type": "display_data"
    }
   ],
   "source": [
    "Anonymizer.runExample xmlPath script2"
   ]
  },
  {
   "cell_type": "markdown",
   "metadata": {},
   "source": [
    "## Example 3: hash value of b element and it's subtree\n",
    "\n",
    "Hashes all elements in subtree"
   ]
  },
  {
   "cell_type": "code",
   "execution_count": 15,
   "metadata": {},
   "outputs": [],
   "source": [
    "script3 :: Anonymizer ()\n",
    "script3 = do\n",
    "    whileNext $ do\n",
    "        path <- current\n",
    "        when (path =~ [\"b\"]) hash"
   ]
  },
  {
   "cell_type": "code",
   "execution_count": 17,
   "metadata": {},
   "outputs": [
    {
     "data": {
      "text/plain": [
       "<?xml version=\"1.0\" encoding=\"UTF-8\"?>\n",
       "<a>\n",
       "  <b>\n",
       "    <c>4b093efdc14b01cdf75efcb08dcfd3f1afdfc567f9c60d338d3e8a941f4051bb</c>\n",
       "    <d>2ac33784352a5ec322f8cdeebc8199ea41f3de2ecb30cd8bc48e19b9455f81a4</d>\n",
       "  </b>\n",
       "  <e>\n",
       "    <f>\n",
       "      \"goo\"\n",
       "    </f>\n",
       "    <d>\n",
       "      \"far\"\n",
       "    </d>\n",
       "  </e>\n",
       "</a>"
      ]
     },
     "metadata": {},
     "output_type": "display_data"
    }
   ],
   "source": [
    "Anonymizer.runExample xmlPath script3"
   ]
  },
  {
   "cell_type": "markdown",
   "metadata": {},
   "source": []
  },
  {
   "cell_type": "markdown",
   "metadata": {},
   "source": [
    "## Example4: hash c or d elemets\n",
    "\n",
    "Hashes all paths containing the Substrings `c` or `d`"
   ]
  },
  {
   "cell_type": "code",
   "execution_count": 18,
   "metadata": {},
   "outputs": [],
   "source": [
    "script4 :: Anonymizer ()\n",
    "script4 = do\n",
    "    whileNext $ do\n",
    "        path <- current\n",
    "        when (path =~ [\"c\"] || path =~ [\"d\"]) hash\n",
    "        "
   ]
  },
  {
   "cell_type": "code",
   "execution_count": 20,
   "metadata": {},
   "outputs": [
    {
     "data": {
      "text/plain": [
       "<?xml version=\"1.0\" encoding=\"UTF-8\"?>\n",
       "<a>\n",
       "  <b>\n",
       "    <c>4b093efdc14b01cdf75efcb08dcfd3f1afdfc567f9c60d338d3e8a941f4051bb</c>\n",
       "    <d>2ac33784352a5ec322f8cdeebc8199ea41f3de2ecb30cd8bc48e19b9455f81a4</d>\n",
       "  </b>\n",
       "  <e>\n",
       "    <f>\n",
       "      \"goo\"\n",
       "    </f>\n",
       "    <d>2e8dffc6d0deb87ad1880b9d4700f3c50643e58093d05f2248a39a89889446e7</d>\n",
       "  </e>\n",
       "</a>"
      ]
     },
     "metadata": {},
     "output_type": "display_data"
    }
   ],
   "source": [
    "Anonymizer.runExample xmlPath script4"
   ]
  }
 ],
 "metadata": {
  "kernelspec": {
   "display_name": "Haskell - atidot-anonymizer",
   "language": "haskell",
   "name": "ihaskell_atidot-anonymizer"
  },
  "language_info": {
   "codemirror_mode": "ihaskell",
   "file_extension": ".hs",
   "name": "haskell",
   "pygments_lexer": "Haskell",
   "version": "8.4.4"
  }
 },
 "nbformat": 4,
 "nbformat_minor": 2
}
